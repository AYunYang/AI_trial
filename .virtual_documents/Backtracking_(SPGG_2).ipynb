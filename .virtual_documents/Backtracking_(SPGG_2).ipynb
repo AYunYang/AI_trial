#imports
import requests
import json
import pandas as pd
import numpy as np
import warnings
import random
import matplotlib.pyplot as plt
from datetime import datetime


import json
import pandas as pd
import numpy as np
import time
import ast

start_time = time.time()


# Getting MongoDB data ( JSON )
Aircon_Data = pd.read_json("data/SPGG_aircon_status.json", convert_dates=False)
Sensors_readings = pd.read_json("data/SPGG_readings.json", convert_dates=False)
Weather_readings = pd.read_json('data/Weather_data.json')

def convert_AirconData(data):
    records = []
    
    for index, row in data.iterrows():
        # Parse FC_FullStatus_Readings if it's a string representation of a dictionary
        if isinstance(row['FC_FullStatus_Readings'], str):
            fc_readings = ast.literal_eval(row['FC_FullStatus_Readings'])
        else:
            fc_readings = row['FC_FullStatus_Readings']


        try:
            combined_datetime = pd.to_datetime(f"{row['date']} {row['time']}")
            formatted_datetime = pd.to_datetime(combined_datetime.strftime("%Y-%m-%d %H:%M:%S"))

        except Exception as e:
            print(f"Error combining datetime for row {index}: {e}")
            combined_datetime = None
            formatted_datetime = None

        
        # Create a record with base information
        record = {
            'Datetime': formatted_datetime
        }
        
        # Add each FC Unit's details as separate columns
        for unit, unit_data in fc_readings.items():
            record[f'{unit}_Status'] = unit_data['Status']
            record[f'{unit}_Fan_Status'] = unit_data['Fan_Status']
            record[f'{unit}_Set_Point'] = unit_data['Set_Point']
            record[f'{unit}_Operation_Mode'] = unit_data['Operation_Mode']
        
        records.append(record)
    
    # Create DataFrame
    df = pd.DataFrame(records)
    return df


def convert_sensorReadings(data):
    records = []
    
    # List of keys to exclude from Lorawan_Readings
    outdoor_id = ["24E124136D336145"]#"24E124136D336145" is outdoor

    
    for index, row in data.iterrows():
        # Parse Energy_Readings if it's a string representation of a dictionary
        if isinstance(row['Energy_Readings'], str):
            Energy_readings = ast.literal_eval(row['Energy_Readings'])
        else:
            Energy_readings = row['Energy_Readings']
            
        # Parse Lorawan_Readings if it's a string representation of a dictionary
        if isinstance(row['Lorawan_Readings'], str):
            Lorawan_Readings = ast.literal_eval(row['Lorawan_Readings'])
        else:
            Lorawan_Readings = row['Lorawan_Readings']
        try:
            # Combine the date and time columns to create a datetime object
            combined_datetime = pd.to_datetime(f"{row['date']} {row['time']}")
            formatted_datetime = pd.to_datetime(combined_datetime.strftime("%Y-%m-%d %H:%M:%S"))
        except Exception as e:
            print(f"Error combining datetime for row {index}: {e}")
            formatted_datetime = None

        # Create a record with base information
        record = {
            'Datetime': formatted_datetime
        }
        
        # Add each Energy sensor's details as separate columns
        for unit, unit_data in Energy_readings.items():              
            record[f'{unit}_Current'] = unit_data['Current']
            record[f'{unit}_Energy'] = unit_data['Energy']
            record[f'{unit}_Power'] = unit_data['Power']
        
        # Add each Lorawan device's details as separate columns
        for unit, unit_data in Lorawan_Readings.items():
            if unit in outdoor_id:
                record[f'Outdoor_{unit}_Humidity'] = unit_data.get('humidity', None)
                record[f'Outdoor_{unit}_Temperature'] = unit_data.get('temperature', None)

            elif unit_data == 'magnet_status':
                record[f'_{unit}_Humidity'] = unit_data.get('humidity', None)
                record[f'Outdoor_{unit}_Temperature'] = unit_data.get('temperature', None)
        	
            record[f'{unit}_Humidity'] = unit_data.get('humidity', None)
            record[f'{unit}_Temperature'] = unit_data.get('temperature', None)


        # Append the record to the list of records
        records.append(record)
    df=pd.DataFrame(records)
    return df


def convert_weatherData(data):
    records = []
    for index, row in data.iterrows():
        # Parse Energy_Readings if it's a string representation of a dictionary
        if isinstance(row['result'], str):
            weather_results = ast.literal_eval(row['result'])
        else:
            weather_results = row['result']
            
        try:
            combined_datetime = pd.to_datetime(f"{row['date']} {row['time']}")
            formatted_datetime = pd.to_datetime(combined_datetime.strftime("%Y-%m-%d %H:%M:%S"))
        except Exception as e:
            print(f"Error combining datetime for row {index}: {e}")
            formatted_datetime = None

        record = {
            'Datetime': formatted_datetime
        }  

        record['weather_status'] = weather_results['weather_status']
        record['weather_temp'] = weather_results['weather_temp']
        record['weather_humid'] = weather_results['weather_humidity']
            
        records.append(record)
    df=pd.DataFrame(records)
    return df
    
Aircon_data_df = convert_AirconData(Aircon_Data)
Sensor_readings_df = convert_sensorReadings(Sensors_readings)
Sensor_readings_df = Sensor_readings_df.interpolate(method='linear')
weather_readings_df = convert_weatherData(Weather_readings)

# Merge Aircon data with Sensor readings using merge_asof
merged_df = pd.merge_asof(Aircon_data_df, Sensor_readings_df, on='Datetime', direction='nearest')

# Now, merge the Weather readings with the previous result using merge_asof
merged_df = pd.merge_asof(merged_df, weather_readings_df, on='Datetime', direction='nearest')

print(merged_df)
# merged_df['total_energy'] = (
#     merged_df['Sensor_1_Energy'] +
#     merged_df['Sensor_3_Energy'] +
#     merged_df['Sensor_6_Energy']
# )

# merged_df['total_power'] = (
#     merged_df['Sensor_1_Power'] +
#     merged_df['Sensor_3_Power'] +
#     merged_df['Sensor_6_Power']
# )

# merged_df['total_current'] = (
#     merged_df['Sensor_1_Current'] +
#     merged_df['Sensor_3_Current'] +
#     merged_df['Sensor_6_Current']
# )

# temperature_col = [
#     col for col in merged_df.columns 
#     if "24e124" in col.lower() and "temperature" in col.lower()
# ]
# humidity_col = [
#     col for col in merged_df.columns 
#     if "24e124" in col.lower() and "humidity" in col.lower()
# ]
# co2_col = [
#     col for col in merged_df.columns 
#     if "24e124" in col.lower() and "co2" in col.lower()
# ]

# merged_df['avg_temperature'] = merged_df[temperature_col].mean(axis=1)
# merged_df['avg_humidity'] = merged_df[humidity_col].mean(axis=1)
# merged_df['avg_co2'] = merged_df[co2_col].mean(axis=1)

# dropped_col = [
#     col for col in merged_df.columns
#     if "24e124" in col.lower()
# ]
# dropped_col_sensor = [
#     col for col in merged_df.columns
#     if "sensor" in col.lower()
# ]

# columns_to_drop = dropped_col + dropped_col_sensor
# merged_df.drop(columns=columns_to_drop, axis=1, inplace=True)
# merged_df['timestamp'] = merged_df['Datetime'].apply(lambda x: int(x.timestamp()))
# merged_df.drop(columns="Datetime", axis=1, inplace=True)

# #########################################################################################################################

# aircon_units = len([
#     col for col in merged_df.columns
#     if "FC_Unit_" in col and "_Status" in col and "Fan" not in col
# ])

# def getFCData(data,row_index):
#     settings = []
#     for i in range(1,aircon_units + 1):
#         settings.append(data[f"FC_Unit_{i}_Status"].iloc[row_index])
#         settings.append(data[f"FC_Unit_{i}_Fan_Status"].iloc[row_index])
#         settings.append(data[f"FC_Unit_{i}_Set_Point"].iloc[row_index])
#         settings.append(data[f"FC_Unit_{i}_Operation_Mode"].iloc[row_index])

#     return settings

# def is_same_settings(data,curr_row_index, next_row_index):
#     return True if (getFCData(data, curr_row_index) == getFCData(data, next_row_index)) else False

# def is_all_off(data, curr_row_index, check_for_off):
#     for i in range(1, aircon_units + 1):
#         if data[f"FC_Unit_{i}_Status"].iloc[curr_row_index] == "ON":
#             return not check_for_off
        
#     return check_for_off        
    
# aircon_status_result = pd.DataFrame()

# num_of_rows = merged_df.shape[0]



# for i in range(num_of_rows - 1, -1, -1):
#     rows = []
#     time_taken = []
#     energy_consumption = []
#     previous_temp = []
#     previous_humi = []
    
#     curr_timestamp = merged_df["timestamp"].iloc[i]
#     curr_energy = merged_df["total_energy"].iloc[i]
#     curr_temperature = merged_df["avg_temperature"].iloc[i]
#     curr_humidity = merged_df["avg_humidity"].iloc[i]
    
#     while i >= 0 and is_same_settings(merged_df, i - 1, i):
#         rows.append(i - 1)
#         time_taken.append(curr_timestamp - merged_df["timestamp"].iloc[i - 1])
#         energy_consumption.append(round(curr_energy - merged_df["total_energy"].iloc[i - 1],2))
#         previous_temp.append(round(merged_df["avg_temperature"].iloc[i - 1],2))
#         previous_humi.append(round(merged_df["avg_humidity"].iloc[i - 1],2))
        
#         i -= 1
        
#     temp_df = pd.DataFrame({
#             'timestamp': [curr_timestamp],
#             'rows': [rows],
#             'time_taken': [time_taken],
#             'energy_consumption': [energy_consumption],
#             'previous_temp': [previous_temp],
#             'previous_humi': [previous_humi],
#             'current_temp': [curr_temperature],
#             'current_humi': [curr_humidity]
#         })
#     for col in merged_df.columns:
#         if "FC_Unit_" in col:
#             temp_df[col] = merged_df[col].iloc[i]
    
#     # Concatenate temp_df to the main result DataFrame
#     aircon_status_result = pd.concat([aircon_status_result, temp_df], ignore_index=True)



# print("Finished")
# aircon_status_result = aircon_status_result.sort_values(by=['current_temp'], ascending=False)
# aircon_status_result.info()
# aircon_status_result.to_csv('aircon_status2.csv', index=False)

# end_time = time.time()
# elapsed_time_minutes = (end_time - start_time) / 60
# print(f"Processing completed in {elapsed_time_minutes:.2f} minutes")


target_temp =  25.0
current_temperature = 22.0

time_factor = 0.5
energy_factor = 0.5
acceptable_range = 0.8

            
def getRowData(row_index):
    temperature = aircon_status_result["current_temp"].iloc[row_index]
    humidity = aircon_status_result["current_humi"].iloc[row_index]
    
    return [temperature, humidity]

def getArrayData(row_index, array_index):
    time_taken = aircon_status_result["time_taken"].iloc[row_index]
    energy_consumption = aircon_status_result["energy_consumption"].iloc[row_index]
    temperature = aircon_status_result["previous_temp"].iloc[row_index]
    humidity = aircon_status_result["previous_humi"].iloc[row_index]
    
    return [temperature[array_index], humidity[array_index], time_taken[array_index], energy_consumption[array_index]]

def comparePath(best_path, current_path):    
    if best_path['factor'] > current_path['factor']:
        return True
    
    return False
    

total_rows = aircon_status_result.shape[0]

total_paths = 0

paths = {}

# returns energy consumption and time taken and best pave
# every combi would have different settings
def findBestCombi(current_row_index):
    global paths
    # Target not reached
    # ALl aircon status is OFF, not useful
    
    curr_temperature, curr_humidity = getRowData(current_row_index)
    
    if is_all_off(aircon_status_result, current_row_index, True):
        paths[current_row_index] = {'energy_consumption': [], 'starting_temp': curr_temperature, 'starting_humi': curr_humidity, 'time_taken': [], 'factor': float('inf'), 'path': []}
        return paths[current_row_index]
    
    # If current_row_index is already checked before
    if current_row_index in paths:
        # Can be EMPTY or VALID PATH
        return paths[current_row_index]
    
    # Check if using this status hit the target temp and humi
    for i in range(len(aircon_status_result['rows'].iloc[current_row_index])):
        
        array_data = getArrayData(current_row_index, i)
        if (abs(array_data[0] - target_temp) < acceptable_range):
            print("Target Found")
            # Target Found
            # Put entry in paths
            curr_path = {
                'energy_consumption': [array_data[3]],
                'time_taken': [array_data[2]],
                'factor': array_data[3] * energy_factor + array_data[2] * time_factor,
                'starting_temp': curr_temperature,
                'starting_humi': curr_humidity,
                'ending_temp': array_data[0],
                'ending_humi': array_data[1],
                'path': [current_row_index]
            }
            paths[current_row_index] = curr_path
            return paths[current_row_index]
    
    # Start of Backtracking
    for i in range(len(aircon_status_result['rows'].iloc[current_row_index])):
        previous_data = getArrayData(current_row_index, i)
        for j in range(current_row_index + 1, total_rows):
            next_data = getRowData(j)
            if (abs(previous_data[0] - next_data[0]) < acceptable_range):

                path = findBestCombi(j)

                # There is a valid path
                if path and path['energy_consumption']:
                    curr_path = {
                        'energy_consumption': [previous_data[3]] + path['energy_consumption'],
                        'time_taken': [previous_data[2]] + path['time_taken'],
                        'starting_temp': previous_data[0],
                        'starting_humi': previous_data[1],
                        'ending_temp': path['ending_temp'],
                        'ending_humi': path['ending_humi'],
                        'path': [current_row_index] + path['path'] 
                    }
                    curr_path['factor'] = sum(curr_path['energy_consumption']) * energy_factor + sum(curr_path['time_taken']) * time_factor
                    if current_row_index in paths:
                        if comparePath(paths[current_row_index], curr_path):
                            paths[current_row_index] = curr_path
                    else:
                        paths[current_row_index] = curr_path
    # No valid paths to target temp and humi
    if current_row_index not in paths:
        paths[current_row_index] = {'energy_consumption': [], 'starting_temp': curr_temperature, 'starting_humi': curr_humidity, 'time_taken': [], 'factor': float('inf'), 'path': []}
    
    # return best path or empty path
    return paths[current_row_index]
   
    
# TO get best path
# find current temp and humi, then sort by 'comparison'


for i in range(total_rows):
    data_temperature, data_humidity = getRowData(i)
    print(i)
    if i not in paths:
        for j in range(len(aircon_status_result['rows'].iloc[i])):
            array_data = getArrayData(i, j)
            path = findBestCombi(i)

            # There is a valid path
            if path and path['energy_consumption']:
                curr_path = {
                    'energy_consumption': [array_data[3]] + path['energy_consumption'],
                    'time_taken': [array_data[2]] + path['time_taken'],
                    'starting_temp': array_data[0],
                    'starting_humi': array_data[1],
                    'ending_temp': path['ending_temp'],
                    'ending_humi': path['ending_humi'],
                    'path': [i] + path['path'] 
                }
                curr_path['factor'] = sum(curr_path['energy_consumption']) * energy_factor + sum(curr_path['time_taken']) * time_factor
                if i in paths:
                    if comparePath(paths[i], curr_path):
                        paths[i] = curr_path
                else:
                    paths[i] = curr_path
            else:
                paths[i] = {'energy_consumption': [], 'starting_temp': array_data[0], 'starting_humi': array_data[1], 'time_taken': [], 'factor': float('inf'), 'path': []}





filtered_paths = {
    key: value for key, value in paths.items()
    if (abs(value['starting_temp'] - current_temperature) < acceptable_range)
}

# Check if filtered_paths is empty
if filtered_paths:
    smallest_factor_path = min(filtered_paths.keys(), key=lambda x: filtered_paths[x]['factor'])
    
    print(paths[smallest_factor_path])
    def expandPath(row_index):
        for i in range(1, aircon_units + 1):
            print("UNIT " + str(i) + ":", end=' ')
            print(aircon_status_result[f"FC_Unit_{i}_Status"].iloc[row_index], end=' ')
            print(aircon_status_result[f"FC_Unit_{i}_Fan_Status"].iloc[row_index], end=' ')
            print(aircon_status_result[f"FC_Unit_{i}_Set_Point"].iloc[row_index], end=' ')
            print(aircon_status_result[f"FC_Unit_{i}_Operation_Mode"].iloc[row_index], end=' ')
            print("")
    
    for index, value in enumerate(paths[smallest_factor_path]['path']):
        expandPath(value)
        print("For", end = ' ')
        hours, remainder = divmod(paths[smallest_factor_path]['time_taken'][index], 3600)
        minutes, seconds = divmod(remainder, 60)
    
        print(f"Hours: {hours}, Minutes: {minutes}, Seconds: {seconds}")
        print("")
else:
    print("No valid path")




